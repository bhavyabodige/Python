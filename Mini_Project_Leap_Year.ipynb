{
  "nbformat": 4,
  "nbformat_minor": 0,
  "metadata": {
    "colab": {
      "provenance": [],
      "authorship_tag": "ABX9TyOZ2TUva2xF1MHzaIW2kiCD",
      "include_colab_link": true
    },
    "kernelspec": {
      "name": "python3",
      "display_name": "Python 3"
    },
    "language_info": {
      "name": "python"
    }
  },
  "cells": [
    {
      "cell_type": "markdown",
      "metadata": {
        "id": "view-in-github",
        "colab_type": "text"
      },
      "source": [
        "<a href=\"https://colab.research.google.com/github/bhavyabodige/Python/blob/main/Mini_Project_Leap_Year.ipynb\" target=\"_parent\"><img src=\"https://colab.research.google.com/assets/colab-badge.svg\" alt=\"Open In Colab\"/></a>"
      ]
    },
    {
      "cell_type": "code",
      "execution_count": 8,
      "metadata": {
        "colab": {
          "base_uri": "https://localhost:8080/"
        },
        "id": "wI_PaWfEJrVw",
        "outputId": "2cbdc785-fa6c-4ecb-9926-7ce42857b1ba"
      },
      "outputs": [
        {
          "output_type": "stream",
          "name": "stdout",
          "text": [
            "Enter your choice of  year :1700\n",
            "The year 1700 is NOT A LEAP YEAR\n"
          ]
        }
      ],
      "source": [
        "# Program to check if a given year is Leap year or not\n",
        "# A year is a leap year if it is evenly divisible by 4, unless it is a century year (eg. 1900, 2000, etc) when it is a leap year only if the year is evenly divisible by 400\n",
        "# The second part of the rule effects century years\n",
        "user_year = int(input(\"Enter your choice of  year :\"))  # User input for the year\n",
        "def is_leap_year(year) :   # Defining a function for checking if the mentioned year is a leap year or not\n",
        "   if year % 4 == 0 :\n",
        "      if year % 100 == 0 :  # Checking the conditions for century years\n",
        "        if year % 400 == 0 :\n",
        "           print(\"The year\",+year,\"is a LEAP YEAR\")\n",
        "        else :\n",
        "           print(\"The year\",+year,\"is NOT A LEAP YEAR\")\n",
        "      else :\n",
        "           print(\"The year\",+year,\"is a LEAP YEAR\")\n",
        "   else:\n",
        "        print(\"The year\",+year,\"is NOT A LEAP YEAR\")\n",
        "is_leap_year(user_year)\n"
      ]
    }
  ]
}