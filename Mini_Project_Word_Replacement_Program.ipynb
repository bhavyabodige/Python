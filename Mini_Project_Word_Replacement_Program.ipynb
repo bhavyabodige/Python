{
  "nbformat": 4,
  "nbformat_minor": 0,
  "metadata": {
    "colab": {
      "provenance": [],
      "authorship_tag": "ABX9TyNpkIRLhEUpEHqw53yYYj7F",
      "include_colab_link": true
    },
    "kernelspec": {
      "name": "python3",
      "display_name": "Python 3"
    },
    "language_info": {
      "name": "python"
    }
  },
  "cells": [
    {
      "cell_type": "markdown",
      "metadata": {
        "id": "view-in-github",
        "colab_type": "text"
      },
      "source": [
        "<a href=\"https://colab.research.google.com/github/bhavyabodige/Python/blob/main/Mini_Project_Word_Replacement_Program.ipynb\" target=\"_parent\"><img src=\"https://colab.research.google.com/assets/colab-badge.svg\" alt=\"Open In Colab\"/></a>"
      ]
    },
    {
      "cell_type": "code",
      "execution_count": 6,
      "metadata": {
        "id": "rcR0wfmQvk60",
        "colab": {
          "base_uri": "https://localhost:8080/"
        },
        "outputId": "b3e4f4c4-9ea3-4255-babf-8e65ca05c731"
      },
      "outputs": [
        {
          "output_type": "stream",
          "name": "stdout",
          "text": [
            "Enter the word you want to replace :Hi\n",
            "Enter the word you want to replace with :Hello\n",
            "Hello, Welcome to Data Science Course and Happy learning everyone!\n"
          ]
        }
      ],
      "source": [
        "# Word Replacement Program\n",
        "\n",
        "# defining a function  for word replacment\n",
        "def word_replacement() :\n",
        "   str = \"Hi, Welcome to Data Science Course and Happy learning everyone!\"\n",
        "   word_to_replace = input(\"Enter the word you want to replace :\")\n",
        "   word_replacement = input(\"Enter the word you want to replace with :\")\n",
        "   print(str.replace(word_to_replace,word_replacement))    # replace method is used to replace one word with another in a string\n",
        "   \n",
        "word_replacement()   # Calling the function\n",
        "\n"
      ]
    }
  ]
}