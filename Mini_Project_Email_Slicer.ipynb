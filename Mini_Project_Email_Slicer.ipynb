{
  "nbformat": 4,
  "nbformat_minor": 0,
  "metadata": {
    "colab": {
      "provenance": [],
      "authorship_tag": "ABX9TyNP+jHMoaOMFWT+hh5bShke",
      "include_colab_link": true
    },
    "kernelspec": {
      "name": "python3",
      "display_name": "Python 3"
    },
    "language_info": {
      "name": "python"
    }
  },
  "cells": [
    {
      "cell_type": "markdown",
      "metadata": {
        "id": "view-in-github",
        "colab_type": "text"
      },
      "source": [
        "<a href=\"https://colab.research.google.com/github/bhavyabodige/Python/blob/main/Mini_Project_Email_Slicer.ipynb\" target=\"_parent\"><img src=\"https://colab.research.google.com/assets/colab-badge.svg\" alt=\"Open In Colab\"/></a>"
      ]
    },
    {
      "cell_type": "code",
      "execution_count": 4,
      "metadata": {
        "colab": {
          "base_uri": "https://localhost:8080/"
        },
        "id": "K7UWCeCiyCjO",
        "outputId": "785766e6-0e44-4796-9303-32cd5dcb04d1"
      },
      "outputs": [
        {
          "output_type": "stream",
          "name": "stdout",
          "text": [
            "Welcome to Email Slicer Program!\n",
            "\n",
            "Please, enter the email id of the user:bhavya@techtalent.academy\n",
            "Username : bhavya\n",
            "Domain : techtalent\n",
            "Extension : academy\n"
          ]
        }
      ],
      "source": [
        "# Email Slicer Program \n",
        "\n",
        "# Defining a function for email slicing\n",
        "def email_slicer() :\n",
        "  print(\"Welcome to Email Slicer Program!\")\n",
        "  print(\"\")\n",
        "  user_email = input(\"Please, enter the email id of the user:\")\n",
        "\n",
        "  # Using a split function ,the first value after the @ is assigned to variable username and second value to variable domain\n",
        "  (username, domain) = user_email.split(\"@\")\n",
        "\n",
        "\n",
        "  # Using a split function ,the first value after the . is assigned to variable domain and second value to variable extension\n",
        "  (domain, extension)  = domain.split(\".\")\n",
        "\n",
        "  print(\"Username :\", username)\n",
        "  print(\"Domain :\", domain)\n",
        "  print(\"Extension :\", extension)\n",
        "\n",
        "email_slicer()   # Calling the email slicing function\n",
        "\n"
      ]
    }
  ]
}