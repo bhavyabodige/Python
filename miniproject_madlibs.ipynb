{
  "nbformat": 4,
  "nbformat_minor": 0,
  "metadata": {
    "colab": {
      "provenance": [],
      "authorship_tag": "ABX9TyPSgUp1D65Yy8Eu7wxoGRKc",
      "include_colab_link": true
    },
    "kernelspec": {
      "name": "python3",
      "display_name": "Python 3"
    },
    "language_info": {
      "name": "python"
    }
  },
  "cells": [
    {
      "cell_type": "markdown",
      "metadata": {
        "id": "view-in-github",
        "colab_type": "text"
      },
      "source": [
        "<a href=\"https://colab.research.google.com/github/bhavyabodige/Python/blob/main/miniproject_madlibs.ipynb\" target=\"_parent\"><img src=\"https://colab.research.google.com/assets/colab-badge.svg\" alt=\"Open In Colab\"/></a>"
      ]
    },
    {
      "cell_type": "code",
      "execution_count": 36,
      "metadata": {
        "id": "P0rNbnjY8jBR",
        "colab": {
          "base_uri": "https://localhost:8080/"
        },
        "outputId": "4d3a769d-4e02-4b05-a99f-aa7683161b4a"
      },
      "outputs": [
        {
          "output_type": "stream",
          "name": "stdout",
          "text": [
            "Enter your birth month :June\n",
            "Enter you date of birth month :6\n",
            "Placename :London Bridge\n",
            "Noun :Deny\n",
            "Noun :John\n",
            "Adjective :beautiful\n",
            "Adverb :quickly\n",
            "Animal :birds\n",
            "Animal :ducks\n",
            "Adjective :friendly\n",
            "Adjective :loves\n",
            "Game :football\n",
            "Verb :sit\n",
            "Noun:Mom\n",
            "Every June 6,we always have a picnic at London Bridge.We invite Deny and John.\n",
            "It is next to a very beautiful lake. We have to walk quickly to get there. There are birds and ducks \n",
            "which are very friendly.We eat lots of food that everyone loves. The games are my favorite part. \n",
            "We play football until we can’t walk anymore. Then we sit back and relax under the old shade tree until Mom \n",
            "says Happy Birthday!\n"
          ]
        }
      ],
      "source": [
        "# The f means Formatted string literals and it's new in Python 3.6 \n",
        "# A formatted string literal or f-string is a string literal that is prefixed with f or F. \n",
        "# These strings may contain replacement fields, which are expressions delimited by curly braces {}. \n",
        "# While other string literals always have a constant value, formatted strings are really expressions evaluated at run time.\n",
        "# The f or F in front of strings tell Python to look at the values , expressions or instance inside {} \n",
        "# and substitute them with the variables values or results if exists.\n",
        "\n",
        "#The Picnic Madlibs game \n",
        "\n",
        "month_name = input(\"Enter your birth month :\")\n",
        "date_value = input(\"Enter you date of birth month :\")\n",
        "placename = input(\"Placename :\")\n",
        "Noun1 = input(\"Noun :\")\n",
        "Noun2  = input(\"Noun :\")\n",
        "Adjective1 = input(\"Adjective :\")\n",
        "Adverb1 = input(\"Adverb :\")\n",
        "Animal1 = input(\"Animal :\")\n",
        "Animal2 = input(\"Animal :\")\n",
        "Adjective2 = input(\"Adjective :\")\n",
        "Adjective3 = input(\"Adjective :\")\n",
        "game_name = input(\"Game :\")\n",
        "Verb1= input(\"Verb :\")\n",
        "Noun3 = input(\"Noun:\")\n",
        "\n",
        "madlib = f\"Every {month_name} {date_value},we always have a picnic at {placename}.We invite {Noun1} and {Noun2}.\\\n",
        "\\nIt is next to a very {Adjective1} lake. We have to walk {Adverb1} to get there. There are {Animal1} and {Animal2} \\\n",
        "\\nwhich are very {Adjective2}.We eat lots of food that everyone {Adjective3}. The games are my favorite part. \\\n",
        "\\nWe play {game_name} until we can’t walk anymore. Then we {Verb1} back and relax under the old shade tree until {Noun3} \\\n",
        "\\nsays Happy Birthday!\"\n",
        "\n",
        "print(madlib)\n"
      ]
    }
  ]
}